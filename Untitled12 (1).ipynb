{
  "cells": [
    {
      "cell_type": "markdown",
      "metadata": {
        "id": "g1hFlcaPHZQ_"
      },
      "source": [
        "**yousef ali abdallah**\n",
        "**20101108**"
      ]
    },
    {
      "cell_type": "markdown",
      "metadata": {
        "id": "kwYfyR9nLHrP"
      },
      "source": [
        "**import library**"
      ]
    },
    {
      "cell_type": "code",
      "execution_count": null,
      "metadata": {
        "id": "a2o23Vw_g9OA"
      },
      "outputs": [],
      "source": [
        "import numpy as np  # Importing numpy library for numerical operations\n",
        "import pandas as pd  # Importing pandas library for data processing\n",
        "import matplotlib.pyplot as plt  # Importing matplotlib library for plotting\n",
        "import matplotlib.image as mpimg  # Importing matplotlib.image for image operations\n",
        "import tensorflow as tf  # Importing TensorFlow library for deep learning\n",
        "from tensorflow import keras  # Importing Keras, a high-level neural networks API\n",
        "import string  # Importing string module for string operations\n",
        "from PIL import Image  # Importing PIL (Python Imaging Library) for image processing\n",
        "import os  # Import the os module for file path operations\n",
        "import cv2  # Import the OpenCV library\n",
        "from google.colab.patches import cv2_imshow  # Import cv2_imshow function for displaying images in Colab"
      ]
    },
    {
      "cell_type": "markdown",
      "metadata": {
        "id": "8LEz8DmzHkE-"
      },
      "source": [
        "**apply filters**\n",
        "\n"
      ]
    },
    {
      "cell_type": "code",
      "execution_count": null,
      "metadata": {
        "colab": {
          "base_uri": "https://localhost:8080/",
          "height": 105
        },
        "id": "_wDRePfs_zWz",
        "outputId": "7f41bdd3-e69a-481c-fdce-1698565874cf"
      },
      "outputs": [
        {
          "data": {
            "image/png": "[encoded data removed]",
            "text/plain": [
              "<PIL.Image.Image image mode=L size=540x22 at 0x7FE92A2930A0>"
            ]
          },
          "metadata": {},
          "output_type": "display_data"
        },
        {
          "data": {
            "image/png": "[encoded data removed]",
            "text/plain": [
              "<PIL.Image.Image image mode=L size=540x22 at 0x7FE89B387190>"
            ]
          },
          "metadata": {},
          "output_type": "display_data"
        },
        {
          "data": {
            "image/png": "[encoded data removed]",
            "text/plain": [
              "<PIL.Image.Image image mode=L size=540x22 at 0x7FE929578130>"
            ]
          },
          "metadata": {},
          "output_type": "display_data"
        },
        {
          "data": {
            "image/png": "[encoded data removed]",
            "text/plain": [
              "<PIL.Image.Image image mode=L size=540x22 at 0x7FE89B387E20>"
            ]
          },
          "metadata": {},
          "output_type": "display_data"
        }
      ],
      "source": [
        "\n",
        "def load_image(image_path):\n",
        "    # Check if the image file exists\n",
        "    if not os.path.exists(image_path):\n",
        "        print(\"Image file does not exist:\", image_path)\n",
        "        return None\n",
        "    \n",
        "    # Load the image\n",
        "    image = cv2.imread(image_path)\n",
        "    \n",
        "    # Check if the image is loaded correctly\n",
        "    if image is None or image.size == 0:\n",
        "        print(\"Failed to load the image:\", image_path)\n",
        "        return None\n",
        "    \n",
        "    return image\n",
        "\n",
        "def convert_to_grayscale(image):\n",
        "    # Convert the image to grayscale\n",
        "    gray = cv2.cvtColor(image, cv2.COLOR_BGR2GRAY)\n",
        "    return gray\n",
        "\n",
        "def apply_gaussian_blur(image):\n",
        "    # Apply Gaussian blur to the image\n",
        "    blurred = cv2.GaussianBlur(image, (5, 5), 0)\n",
        "    return blurred\n",
        "\n",
        "def apply_canny_edge_detection(image):\n",
        "    # Apply Canny edge detection to the image\n",
        "    edges = cv2.Canny(image, 50, 150)\n",
        "    return edges\n",
        "\n",
        "def apply_median_blur(image):\n",
        "    # Apply median blur to the image\n",
        "    denoised = cv2.medianBlur(image, 3)\n",
        "    return denoised\n",
        "\n",
        "# Specify the image path\n",
        "image_path = '../content/drive/MyDrive/archive (1)/DirtyImages/s01-000/s01-000-00-1.png'\n",
        "\n",
        "# Load the image\n",
        "image = load_image(image_path)\n",
        "\n",
        "# Check if the image is loaded successfully\n",
        "if image is not None:\n",
        "    # Convert to grayscale\n",
        "    gray = convert_to_grayscale(image)\n",
        "    \n",
        "    # Display the grayscale image\n",
        "    cv2_imshow(gray)\n",
        "    \n",
        "    # Apply Gaussian smoothing\n",
        "    blurred = apply_gaussian_blur(gray)\n",
        "    \n",
        "    # Display the result after applying Gaussian blur\n",
        "    cv2_imshow(blurred)\n",
        "    \n",
        "    # Apply Canny edge detection\n",
        "    edges = apply_canny_edge_detection(blurred)\n",
        "    \n",
        "    # Display the result after applying Canny edge detection\n",
        "    cv2_imshow(edges)\n",
        "    \n",
        "    # Apply median blur\n",
        "    denoised = apply_median_blur(edges)\n",
        "    \n",
        "    # Display the final preprocessed image\n",
        "    cv2_imshow(denoised)\n"
      ]
    },
    {
      "cell_type": "markdown",
      "metadata": {
        "id": "4E-eUTkgIAyH"
      },
      "source": [
        "**Open and read the text file**"
      ]
    },
    {
      "cell_type": "code",
      "execution_count": null,
      "metadata": {
        "id": "O0nlGeM6hJk8"
      },
      "outputs": [],
      "source": [
        "# Open and read the text file containing details and outputs\n",
        "text_file = open(r\"../content/drive/MyDrive/archive (1)/UsedSentences.txt\", \"r\")"
      ]
    },
    {
      "cell_type": "markdown",
      "metadata": {
        "id": "mofEMEvsIHfp"
      },
      "source": [
        "**using text file**"
      ]
    },
    {
      "cell_type": "code",
      "execution_count": null,
      "metadata": {
        "id": "Vcm9PcEZhUbW"
      },
      "outputs": [],
      "source": [
        "details = []  # List to store details\n",
        "outputs = []  # List to store outputs\n",
        "names = []  # List to store names\n",
        "\n",
        "\n",
        "# Extract details and outputs from each line in the text file\n",
        "for line in text_file:\n",
        "    a = line.split('#')  # Splitting line at '#' character\n",
        "    outputs.append(a[1].strip('\\n'))  # Extracting output and removing newline character....\n",
        "    details.append(a[0])  # Extracting details\n",
        "\n",
        "# Splitting details to extract names\n",
        "for detail in details:\n",
        "    a = detail.split(' ')  # Splitting detail at space character\n",
        "    names.append(a[0])  # Extracting name and adding it to the names list...."
      ]
    },
    {
      "cell_type": "markdown",
      "metadata": {
        "id": "gZ5UVIliIdEh"
      },
      "source": [
        "**using image file**"
      ]
    },
    {
      "cell_type": "code",
      "execution_count": null,
      "metadata": {
        "colab": {
          "base_uri": "https://localhost:8080/",
          "height": 172
        },
        "id": "It07R_R2gxSE",
        "outputId": "f3cc0e3a-c321-4f74-a4ed-90f55275519c"
      },
      "outputs": [
        {
          "name": "stdout",
          "output_type": "stream",
          "text": [
            "No of Images: 1774\n",
            "Characters:  abcdefghijklmnopqrstuvwxyzABCDEFGHIJKLMNOPQRSTUVWXYZ0123456789.,*&!@~():`^]¢‘;|-«\n",
            "No of chars: 82\n",
            "Shape of X is: (1774, 32, 784, 1)\n"
          ]
        },
        {
          "data": {
            "image/png": "[encoded data removed]",
            "text/plain": [
              "<Figure size 640x480 with 1 Axes>"
            ]
          },
          "metadata": {},
          "output_type": "display_data"
        }
      ],
      "source": [
        "\n",
        "X = []  # List to store images\n",
        "\n",
        "# Load and process each image\n",
        "for name in names:\n",
        "    img = Image.open('../content/drive/MyDrive/archive (1)/CleanedImages/Encoder_Clean_Renamed/' + name + '.png', 'r')  # Opening the image\n",
        "    img = img.resize((784, 32), Image.ANTIALIAS)  # Resizing the image to (784, 32)\n",
        "    img = np.asarray(img)  # Converting the image to a NumPy array\n",
        "    img = img[:, :, 0]  # Extracting the first channel of the image\n",
        "    X.append(img)  # Adding the processed image to the X list\n",
        "\n",
        "X = np.asarray(X)  # Converting X list to a NumPy array\n",
        "plt.imshow(X[42])  # Plotting the 43rd image......\n",
        "plt.title(outputs[42])  # Setting the title of the plot to the corresponding output.....\n",
        "print(\"No of Images:\", X.shape[0])  # Printing the number of images\n",
        "\n",
        "symbols = \" \" + string.ascii_lowercase + string.ascii_uppercase + \"0123456789.,*&!@~():`^]¢‘;|-«\"  # Defining the symbols or characters\n",
        "print(\"Characters:\", symbols)  # Printing the characters\n",
        "print(\"No of chars:\", len(symbols))  # Printing the number of characters\n",
        "\n",
        "Y = np.zeros(shape=(len(outputs), 98, len(symbols)))  # Initializing the Y array with zeros\n",
        "\n",
        "# Encoding the outputs into one-hot vectors\n",
        "for example_no, name in enumerate(outputs):\n",
        "    for letter_no, letter in enumerate(name):\n",
        "        try:\n",
        "            Y[example_no][letter_no][symbols.index(letter)] = 1  # Setting the corresponding index to 1 in the one-hot vector\n",
        "        except:\n",
        "            print(letter, end=\" \")  # Printing the letter if it is not found in the symbols\n",
        "\n",
        "X = np.reshape(X, (X.shape[0], X.shape[1], X.shape[2], 1))  # Reshaping X to add a channel dimension\n",
        "print(\"Shape of X is:\", X.shape)  # Printing the shape of X"
      ]
    },
    {
      "cell_type": "markdown",
      "metadata": {
        "id": "wIiIxo7vIke_"
      },
      "source": [
        "**using OCRModel**"
      ]
    },
    {
      "cell_type": "code",
      "execution_count": null,
      "metadata": {
        "id": "LHriHshnR2Hj"
      },
      "outputs": [],
      "source": [
        "def OCRModel():\n",
        "  # CNN architecture depends on various factors, including the complexity of the task, the size and diversity of the input data, and the desired trade-off between model complexity and performance.\n",
        "    # Define input layer for the images\n",
        "    image = keras.layers.Input((32, 784, 1))\n",
        "    # The input shape is (32, 784, 1), where 32 is the height of the image, 784 is the width, and 1 is the number of color channels (grayscale).\n",
        "    \n",
        "    # Convolutional layers\n",
        "    # relu activation and best activatin fun fir cnn\n",
        "    conv1 = keras.layers.Conv2D(16, (3, 3), activation='relu', padding='same')(image)\n",
        "    # Apply a 2D convolution with 16 filters, a kernel size of (3, 3), ReLU activation, and padding='same'.\n",
        "    mp1 = keras.layers.MaxPooling2D((2, 2), padding='same')(conv1)\n",
        "    # Apply max pooling with a pool size of (2, 2) and padding='same'.\n",
        "    \n",
        "    conv2 = keras.layers.Conv2D(32, (3, 3), activation='relu', padding='same')(mp1)\n",
        "    # Apply another 2D convolution with 32 filters, a kernel size of (3, 3), ReLU activation, and padding='same'.\n",
        "    mp2 = keras.layers.MaxPooling2D((2, 2), padding='same')(conv2)\n",
        "    # Apply max pooling: downsampling operation reduce number of dim \n",
        "    # with a pool size of (2, 2) and padding='same'.\n",
        "    \n",
        "    conv3 = keras.layers.Conv2D(64, (3, 3), activation='relu', padding='same')(mp2)\n",
        "    # Apply another 2D convolution with 64 filters, a kernel size of (3, 3), ReLU activation, and padding='same'.\n",
        "    mp3 = keras.layers.MaxPooling2D((2, 2), padding='same')(conv3)\n",
        "    # Apply max pooling with a pool size of (2, 2) and padding='same'.\n",
        "    \n",
        "    conv4 = keras.layers.Conv2D(128, (3, 3), activation='relu', padding='same')(mp3)\n",
        "    # Apply another 2D convolution with 128 filters, a kernel size of (3, 3), ReLU activation, and padding='same'.\n",
        "    mp4 = keras.layers.MaxPooling2D((2, 1), padding='same')(conv4)\n",
        "    # Apply max pooling with a pool size of (2, 1) and padding='same'. This pooling operation reduces the width of the feature maps.\n",
        "    \n",
        "    conv5 = keras.layers.Conv2D(256, (3, 3), activation='relu', padding='same')(mp4)\n",
        "    # Apply another 2D convolution with 256 filters, a kernel size of (3, 3), ReLU activation, and padding='same'.\n",
        "    mp5 = keras.layers.MaxPooling2D((2, 1), padding='same')(conv5)\n",
        "    # Apply max pooling with a pool size of (2, 1) and padding='same'. This pooling operation reduces the width of the feature maps.\n",
        "    \n",
        "    conv6 = keras.layers.Conv2D(256, (3, 3), activation='relu', padding='same')(mp5)\n",
        "    # Apply another 2D convolution with 256 filters, a kernel size of (3, 3), ReLU activation, and padding='same'.\n",
        "    \n",
        "    # Batch Normalization layer\n",
        "    bn = keras.layers.BatchNormalization()(conv6)\n",
        "    # Apply batch normalization to normalize the activations of the previous layer.\n",
        "\n",
        "    # Squeeze the dimensions to remove size 1 dimensions\n",
        "    sq = keras.backend.squeeze(bn, axis=1)\n",
        "  # Squeeze the tensor to remove the size 1 dimension along the specified axis. In this case, it removes the height dimension.\n",
        "\n",
        "  # Bidirectional LSTM layers: is a type of RRN layer(Recurrent neural network ) that work as (Long Short-Term Memory) using to specifically designed to handle sequential data\n",
        "  # Bidirectional  capture information from both past and future states  to understand the sequential patterns in the input data.\n",
        "  #LSTM have memory cells that store and update information over time\n",
        "    rn1 = keras.layers.Bidirectional(keras.layers.LSTM(256, return_sequences=True))(sq)\n",
        "    # Apply a bidirectional LSTM layer with 256 units and return the sequences.\n",
        "    rn2 = keras.layers.Bidirectional(keras.layers.LSTM(256, return_sequences=True))(rn1)\n",
        "    # Apply another bidirectional LSTM layer with 256 units and return the sequences.\n",
        "\n",
        "    # Expand dimensions to match the shape for convolutional layer\n",
        "    exd = keras.backend.expand_dims(rn2, axis=2)\n",
        "    # Expand the dimensions of the tensor along the specified axis. In this case, it adds a new axis with size 1.\n",
        "\n",
        "    # Convolutional layer for mapping to output symbols\n",
        "    mapping = keras.layers.Conv2D(len(symbols), (2, 2), activation='relu', padding='same')(exd)\n",
        "    # Apply a 2D convolution with the number of filters equal to the number of output symbols,\n",
        "    # a kernel size of (2, 2), ReLU activation, and padding='same'.\n",
        "    mapping = keras.backend.squeeze(mapping, axis=2)\n",
        "    # Squeeze the tensor to remove the size 1 dimension along the specified axis. In this case, it removes the added axis.\n",
        "\n",
        "    # Softmax activation for probability distribution over output symbols\n",
        "    mapping = tf.keras.layers.Softmax()(mapping)\n",
        "    # Apply the softmax activation function to convert the values into a probability distribution.\n",
        "\n",
        "    # Create the model with input and output layers\n",
        "    model = keras.Model(image, mapping)\n",
        "    # Create a Keras model with the defined input and output layers.\n",
        "\n",
        "    # Compile the model with categorical cross-entropy loss and Adam optimizer\n",
        "    model.compile(loss='categorical_crossentropy', optimizer='adam')\n",
        "    # Compile the model with categorical cross-entropy loss function and the Adam optimizer.\n",
        "\n",
        "    return model\n"
      ]
    },
    {
      "cell_type": "markdown",
      "metadata": {
        "id": "zfTWUjg-ItFo"
      },
      "source": [
        "**Train the model**"
      ]
    },
    {
      "cell_type": "code",
      "execution_count": 10,
      "metadata": {
        "colab": {
          "base_uri": "https://localhost:8080/"
        },
        "id": "svHoXb12R4s5",
        "outputId": "da9efa34-0dac-4f43-ea7e-13cd2ba1c6e3"
      },
      "outputs": [
        {
          "output_type": "stream",
          "name": "stdout",
          "text": [
            "Epoch 1/50\n",
            "56/56 [==============================] - 225s 4s/step - loss: 1.6104\n",
            "Epoch 2/50\n",
            "56/56 [==============================] - 198s 4s/step - loss: 1.5115\n",
            "Epoch 3/50\n",
            "56/56 [==============================] - 198s 4s/step - loss: 1.4961\n",
            "Epoch 4/50\n",
            "56/56 [==============================] - 198s 4s/step - loss: 1.4821\n",
            "Epoch 5/50\n",
            "56/56 [==============================] - 205s 4s/step - loss: 1.4545\n",
            "Epoch 6/50\n",
            "56/56 [==============================] - 207s 4s/step - loss: 1.4160\n",
            "Epoch 7/50\n",
            "56/56 [==============================] - 200s 4s/step - loss: 1.3447\n",
            "Epoch 8/50\n",
            "56/56 [==============================] - 198s 4s/step - loss: 1.2678\n",
            "Epoch 9/50\n",
            "56/56 [==============================] - 198s 4s/step - loss: 1.1292\n",
            "Epoch 10/50\n",
            "56/56 [==============================] - 199s 4s/step - loss: 0.9786\n",
            "Epoch 11/50\n",
            "56/56 [==============================] - 199s 4s/step - loss: 0.8368\n",
            "Epoch 12/50\n",
            "56/56 [==============================] - 198s 4s/step - loss: 0.6570\n",
            "Epoch 13/50\n",
            "56/56 [==============================] - 198s 4s/step - loss: 0.5256\n",
            "Epoch 14/50\n",
            "56/56 [==============================] - 229s 4s/step - loss: 0.3979\n",
            "Epoch 15/50\n",
            "56/56 [==============================] - 230s 4s/step - loss: 0.3330\n",
            "Epoch 16/50\n",
            "56/56 [==============================] - 234s 4s/step - loss: 0.2486\n",
            "Epoch 17/50\n",
            "56/56 [==============================] - 231s 4s/step - loss: 0.1835\n",
            "Epoch 18/50\n",
            "56/56 [==============================] - 229s 4s/step - loss: 0.1422\n",
            "Epoch 19/50\n",
            "56/56 [==============================] - 227s 4s/step - loss: 0.1074\n",
            "Epoch 20/50\n",
            "56/56 [==============================] - 227s 4s/step - loss: 0.0865\n",
            "Epoch 21/50\n",
            "56/56 [==============================] - 228s 4s/step - loss: 0.0593\n",
            "Epoch 22/50\n",
            "56/56 [==============================] - 227s 4s/step - loss: 0.0421\n",
            "Epoch 23/50\n",
            "56/56 [==============================] - 229s 4s/step - loss: 0.0556\n",
            "Epoch 24/50\n",
            "56/56 [==============================] - 227s 4s/step - loss: 0.0604\n",
            "Epoch 25/50\n",
            "56/56 [==============================] - 228s 4s/step - loss: 0.0622\n",
            "Epoch 26/50\n",
            "56/56 [==============================] - 227s 4s/step - loss: 0.1852\n",
            "Epoch 27/50\n",
            "56/56 [==============================] - 227s 4s/step - loss: 0.0856\n",
            "Epoch 28/50\n",
            "56/56 [==============================] - 227s 4s/step - loss: 0.0272\n",
            "Epoch 29/50\n",
            "56/56 [==============================] - 227s 4s/step - loss: 0.0180\n",
            "Epoch 30/50\n",
            "56/56 [==============================] - 227s 4s/step - loss: 0.0157\n",
            "Epoch 31/50\n",
            "56/56 [==============================] - 226s 4s/step - loss: 0.0150\n",
            "Epoch 32/50\n",
            "56/56 [==============================] - 226s 4s/step - loss: 0.0130\n",
            "Epoch 33/50\n",
            "56/56 [==============================] - 227s 4s/step - loss: 0.0123\n",
            "Epoch 34/50\n",
            "56/56 [==============================] - 226s 4s/step - loss: 0.0116\n",
            "Epoch 35/50\n",
            "56/56 [==============================] - 225s 4s/step - loss: 0.0110\n",
            "Epoch 36/50\n",
            "56/56 [==============================] - 226s 4s/step - loss: 0.0107\n",
            "Epoch 37/50\n",
            "56/56 [==============================] - 225s 4s/step - loss: 0.0105\n",
            "Epoch 38/50\n",
            "56/56 [==============================] - 226s 4s/step - loss: 0.0098\n",
            "Epoch 39/50\n",
            "56/56 [==============================] - 227s 4s/step - loss: 0.0094\n",
            "Epoch 40/50\n",
            "56/56 [==============================] - 226s 4s/step - loss: 0.0095\n",
            "Epoch 41/50\n",
            "56/56 [==============================] - 226s 4s/step - loss: 0.0092\n",
            "Epoch 42/50\n",
            "56/56 [==============================] - 225s 4s/step - loss: 0.0088\n",
            "Epoch 43/50\n",
            "56/56 [==============================] - 225s 4s/step - loss: 0.0085\n",
            "Epoch 44/50\n",
            "56/56 [==============================] - 225s 4s/step - loss: 0.0084\n",
            "Epoch 45/50\n",
            "56/56 [==============================] - 224s 4s/step - loss: 0.0083\n",
            "Epoch 46/50\n",
            "56/56 [==============================] - 226s 4s/step - loss: 0.0082\n",
            "Epoch 47/50\n",
            "56/56 [==============================] - 226s 4s/step - loss: 0.0080\n",
            "Epoch 48/50\n",
            "56/56 [==============================] - 226s 4s/step - loss: 0.0080\n",
            "Epoch 49/50\n",
            "56/56 [==============================] - 226s 4s/step - loss: 0.0077\n",
            "Epoch 50/50\n",
            "56/56 [==============================] - 226s 4s/step - loss: 0.0082\n"
          ]
        },
        {
          "output_type": "execute_result",
          "data": {
            "text/plain": [
              "<keras.callbacks.History at 0x7fe880c476d0>"
            ]
          },
          "metadata": {},
          "execution_count": 10
        }
      ],
      "source": [
        "from keras.utils.vis_utils import plot_model\n",
        "\n",
        "# Create OCR model\n",
        "OCR = OCRModel()\n",
        "\n",
        "# Train the model\n",
        "OCR.fit(X, Y, epochs=50)\n",
        "\n",
        "# Generate a plot of the model architecture\n",
        "# plot_model(OCR, to_file='gan_plot.png', show_shapes=True, show_layer_names=True)\n",
        "# Uncomment the line above to generate a plot of the model architecture"
      ]
    },
    {
      "cell_type": "markdown",
      "metadata": {
        "id": "Yxr77DSfI3F6"
      },
      "source": [
        "Print the predicted output ,original output and Display the image at index 100"
      ]
    },
    {
      "cell_type": "code",
      "execution_count": 16,
      "metadata": {
        "id": "NA8jg3zOR6d0",
        "colab": {
          "base_uri": "https://localhost:8080/",
          "height": 173
        },
        "outputId": "815b1223-c3a0-4874-ce66-bc0643e83a92"
      },
      "outputs": [
        {
          "output_type": "stream",
          "name": "stdout",
          "text": [
            "56/56 [==============================] - 53s 933ms/step\n",
            "98\n",
            "Predicted: There exist several mehosst teddiiign frrttttieemll\n",
            "Original:  There exist several methods to design forms with fields to\n"
          ]
        },
        {
          "output_type": "execute_result",
          "data": {
            "text/plain": [
              "<matplotlib.image.AxesImage at 0x7fe87b95a650>"
            ]
          },
          "metadata": {},
          "execution_count": 16
        },
        {
          "output_type": "display_data",
          "data": {
            "text/plain": [
              "<Figure size 640x480 with 1 Axes>"
            ],
            "image/png": "[encoded data removed]"
          },
          "metadata": {}
        }
      ],
      "source": [
        "xx = OCR.predict(X)  # Perform predictions using the OCR model on input X\n",
        "index = 100  # Select the index of the sample to analyze\n",
        "c = \"\"  # Initialize an empty string to store the predicted output\n",
        "\n",
        "print(len(xx[0]))  # Print the length of the prediction result\n",
        "\n",
        "# Iterate over each character in the predicted output\n",
        "for i in range(len(xx[0])):\n",
        "    c = c + (symbols[np.argmax(xx[index][i])])  # Get the index of the highest probability and append the corresponding symbol to the output string\n",
        "\n",
        "# Print the predicted output\n",
        "print(\"Predicted:\", c.strip())\n",
        "\n",
        "# Print the original output\n",
        "print(\"Original:\", outputs[index])\n",
        "\n",
        "# Display the image at index 100\n",
        "plt.imshow(X[index][:, :, 0])"
      ]
    }
  ],
  "metadata": {
    "colab": {
      "provenance": []
    },
    "kernelspec": {
      "display_name": "Python 3",
      "name": "python3"
    },
    "language_info": {
      "name": "python"
    }
  },
  "nbformat": 4,
  "nbformat_minor": 0
}